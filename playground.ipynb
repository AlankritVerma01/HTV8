{
 "cells": [
  {
   "cell_type": "code",
   "execution_count": null,
   "metadata": {
    "collapsed": true
   },
   "outputs": [],
   "source": [
    "import os, requests, json, openai, PyPDF2, pdfplumber, re, tiktoken, asyncio\n",
    "from bson.json_util import dumps\n",
    "from dotenv import load_dotenv; load_dotenv()\n",
    "from io import BytesIO\n",
    "from pdfminer.high_level import extract_text\n",
    "\n",
    "openai.api_key = os.environ.get(\"OPENAI_API_KEY\")\n",
    "pdf_file = \"attention.pdf\""
   ]
  },
  {
   "cell_type": "code",
   "execution_count": null,
   "outputs": [],
   "source": [
    "# async def your_function(input_str):\n",
    "#     await asyncio.sleep(1)  # Simulating an async task\n",
    "#     return f\"Processed: {input_str}\"\n",
    "#\n",
    "# input_strings = [\"Input1\", \"Input2\", \"Input3\"]\n",
    "#\n",
    "# async def main():\n",
    "#     tasks = [your_function(input_str) for input_str in input_strings]\n",
    "#     results = await asyncio.gather(*tasks)\n",
    "#\n",
    "#     for input_str, result in zip(input_strings, results):\n",
    "#         print(f\"Input: {input_str} - Output: {result}\")\n",
    "#\n",
    "#\n",
    "# asyncio.run(main())"
   ],
   "metadata": {
    "collapsed": false
   }
  },
  {
   "cell_type": "code",
   "execution_count": null,
   "outputs": [],
   "source": [
    "def user_said(content, history):\n",
    "    history.append({\"role\":\"user\", \"content\":content})\n",
    "\n",
    "def assistant_said(content, history):\n",
    "    history.append({\"role\":\"assistant\", \"content\":content})\n",
    "\n",
    "def ask_chatgpt(user, history, system=None, new_chat=False, max_tokens=256, only_response=False, temp=0, model='gpt-3.5-turbo'):\n",
    "\n",
    "    history = [] if new_chat else history\n",
    "\n",
    "    if system and new_chat:\n",
    "        history.append({\"role\":\"system\", \"content\":system})\n",
    "    user_said(user, history)\n",
    "\n",
    "    response = openai.ChatCompletion.create(\n",
    "      model=model,\n",
    "      messages=history,\n",
    "      temperature=temp,\n",
    "      max_tokens=max_tokens,\n",
    "      top_p=1,\n",
    "      frequency_penalty=0,\n",
    "      presence_penalty=0\n",
    "    )\n",
    "    response = response['choices'][0]['message']['content']\n",
    "\n",
    "    if only_response:\n",
    "        return response\n",
    "    else:\n",
    "        assistant_said(response, history)\n",
    "        return response, history"
   ],
   "metadata": {
    "collapsed": false
   }
  },
  {
   "cell_type": "code",
   "execution_count": 64,
   "outputs": [],
   "source": [
    "class SectionNode:\n",
    "\n",
    "    def __init__(self, title, page, top):\n",
    "        self.id = str(id(self))\n",
    "        self.title = title\n",
    "        self.text = \"\"\n",
    "        self.children = []\n",
    "        self.page = page\n",
    "        self.top = top\n",
    "        self.depth = None\n",
    "\n",
    "    def addChild(self, other):\n",
    "        self.children.append(other)\n",
    "\n",
    "    def getSummary(self):\n",
    "        #TODO Use GPT to get the summary of text\n",
    "        self.text = self.title\n",
    "\n",
    "    def __str__(self):\n",
    "        return f'Depth: {self.depth}\\n' \\\n",
    "               f'Title: {self.title}\\n' \\\n",
    "               f'Page: {self.page}\\n' \\\n",
    "               f'Text: {self.text}\\n' \\\n",
    "               f'Children: {[child.title for child in self.children]}\\n'"
   ],
   "metadata": {
    "collapsed": false,
    "ExecuteTime": {
     "end_time": "2023-10-15T04:56:35.853925500Z",
     "start_time": "2023-10-15T04:56:35.831349Z"
    }
   }
  },
  {
   "cell_type": "code",
   "execution_count": 68,
   "outputs": [
    {
     "data": {
      "text/plain": "{'2334586452304': {'depth': 0,\n  'page': 0,\n  'top': None,\n  'title': 'Attention Is All You Need',\n  'text': '',\n  'children': ['2334567745936',\n   '2334567752336',\n   '2334567746576',\n   '2334567758480',\n   '2334567758608',\n   '2334567747344',\n   '2334567754832']},\n '2334567745936': {'depth': 1,\n  'page': 1,\n  'top': 720,\n  'title': 'Introduction',\n  'text': 'Recurrent neural networks, long short-term memory [ 13] and gated recurrent [ 7] neural networks in particular, have been firmly established as state of the art approaches in sequence modeling and transduction problems such as language modeling and machine translation [ 35,2,5]. Numerous efforts have since continued to push the boundaries of recurrent language models and encoder-decoder architectures [38, 24, 15]. Recurrent models typically factor computation along the symbol positions of the input and output sequences. Aligning the positions to steps in computation time, they generate a sequence of hidden states ht, as a function of the previous hidden state ht−1and the input for position t. This inherently sequential nature precludes parallelization within training examples, which becomes critical at longer sequence lengths, as memory constraints limit batching across examples. Recent work has achieved significant improvements in computational efficiency through factorization tricks [ 21] and conditional computation [ 32], while also improving model performance in case of the latter. The fundamental constraint of sequential computation, however, remains. Attention mechanisms have become an integral part of compelling sequence modeling and transduc- tion models in various tasks, allowing modeling of dependencies without regard to their distance in the input or output sequences [ 2,19]. In all but a few cases [ 27], however, such attention mechanisms are used in conjunction with a recurrent network. In this work we propose the Transformer, a model architecture eschewing recurrence and instead relying entirely on an attention mechanism to draw global dependencies between input and output. The Transformer allows for significantly more parallelization and can reach a new state of the art in translation quality after being trained for as little as twelve hours on eight P100 GPUs.',\n  'children': []},\n '2334567752336': {'depth': 1,\n  'page': 1,\n  'top': 436.994,\n  'title': 'Background',\n  'text': 'The goal of reducing sequential computation also forms the foundation of the Extended Neural GPU [16], ByteNet [ 18] and ConvS2S [ 9], all of which use convolutional neural networks as basic building block, computing hidden representations in parallel for all input and output positions. In these models, the number of operations required to relate signals from two arbitrary input or output positions grows in the distance between positions, linearly for ConvS2S and logarithmically for ByteNet. This makes it more difficult to learn dependencies between distant positions [ 12]. In the Transformer this is reduced to a constant number of operations, albeit at the cost of reduced effective resolution due to averaging attention-weighted positions, an effect we counteract with Multi-Head Attention as described in section 3.2. Self-attention, sometimes called intra-attention is an attention mechanism relating different positions of a single sequence in order to compute a representation of the sequence. Self-attention has been used successfully in a variety of tasks including reading comprehension, abstractive summarization, textual entailment and learning task-independent sentence representations [4, 27, 28, 22]. End-to-end memory networks are based on a recurrent attention mechanism instead of sequence- aligned recurrence and have been shown to perform well on simple-language question answering and language modeling tasks [34]. To the best of our knowledge, however, the Transformer is the first transduction model relying entirely on self-attention to compute representations of its input and output without using sequence- aligned RNNs or convolution. In the following sections, we will describe the Transformer, motivate self-attention and discuss its advantages over models such as [17, 18] and [9].',\n  'children': []},\n '2334567746576': {'depth': 1,\n  'page': 1,\n  'top': 157.59,\n  'title': 'Model Architecture',\n  'text': 'Most competitive neural sequence transduction models have an encoder-decoder structure [ 5,2,35]. Here, the encoder maps an input sequence of symbol representations (x1, ..., x n)to a sequence of continuous representations z= (z1, ..., z n). Given z, the decoder then generates an output sequence (y1, ..., y m)of symbols one element at a time. At each step the model is auto-regressive [10], consuming the previously generated symbols as additional input when generating the next. 2Figure 1: The Transformer - model architecture. The Transformer follows this overall architecture using stacked self-attention and point-wise, fully connected layers for both the encoder and decoder, shown in the left and right halves of Figure 1, respectively.',\n  'children': ['2334567756176',\n   '2334567759312',\n   '2334567745744',\n   '2334567751888',\n   '2334567755344']},\n '2334567756176': {'depth': 2,\n  'page': 2,\n  'top': 315.594,\n  'title': 'Encoder and Decoder Stacks',\n  'text': 'Encoder: The encoder is composed of a stack of N= 6 identical layers. Each layer has two sub-layers. The first is a multi-head self-attention mechanism, and the second is a simple, position- wise fully connected feed-forward network. We employ a residual connection [ 11] around each of the two sub-layers, followed by layer normalization [ 1]. That is, the output of each sub-layer is LayerNorm( x+ Sublayer( x)), where Sublayer( x)is the function implemented by the sub-layer itself. To facilitate these residual connections, all sub-layers in the model, as well as the embedding layers, produce outputs of dimension dmodel = 512 . Decoder: The decoder is also composed of a stack of N= 6identical layers. In addition to the two sub-layers in each encoder layer, the decoder inserts a third sub-layer, which performs multi-head attention over the output of the encoder stack. Similar to the encoder, we employ residual connections around each of the sub-layers, followed by layer normalization. We also modify the self-attention sub-layer in the decoder stack to prevent positions from attending to subsequent positions. This masking, combined with fact that the output embeddings are offset by one position, ensures that the predictions for position ican depend only on the known outputs at positions less than i.',\n  'children': []},\n '2334567759312': {'depth': 2,\n  'page': 2,\n  'top': 117.119,\n  'title': 'Attention',\n  'text': 'An attention function can be described as mapping a query and a set of key-value pairs to an output, where the query, keys, values, and output are all vectors. The output is computed as a weighted sum 3Scaled Dot-Product Attention  Multi-Head Attention Figure 2: (left) Scaled Dot-Product Attention. (right) Multi-Head Attention consists of several attention layers running in parallel. of the values, where the weight assigned to each value is computed by a compatibility function of the query with the corresponding key.',\n  'children': ['2334567747856', '2334567747920', '2334567759440']},\n '2334567747856': {'depth': 3,\n  'page': 3,\n  'top': 447.529,\n  'title': 'Scaled Dot-Product Attention',\n  'text': 'We call our particular attention \"Scaled Dot-Product Attention\" (Figure 2). The input consists of queries and keys of dimension dk, and values of dimension dv. We compute the dot products of the query with all keys, divide each by√dk, and apply a softmax function to obtain the weights on the values. In practice, we compute the attention function on a set of queries simultaneously, packed together into a matrix Q. The keys and values are also packed together into matrices KandV. We compute the matrix of outputs as: Attention( Q, K, V ) = softmax(QKT √dk)V (1) The two most commonly used attention functions are additive attention [ 2], and dot-product (multi- plicative) attention. Dot-product attention is identical to our algorithm, except for the scaling factor of1√dk. Additive attention computes the compatibility function using a feed-forward network with a single hidden layer. While the two are similar in theoretical complexity, dot-product attention is much faster and more space-efficient in practice, since it can be implemented using highly optimized matrix multiplication code. While for small values of dkthe two mechanisms perform similarly, additive attention outperforms dot product attention without scaling for larger values of dk[3]. We suspect that for large values of dk, the dot products grow large in magnitude, pushing the softmax function into regions where it has extremely small gradients4. To counteract this effect, we scale the dot products by1√dk.',\n  'children': []},\n '2334567747920': {'depth': 3,\n  'page': 3,\n  'top': 166.913,\n  'title': 'Multi-Head Attention',\n  'text': 'Instead of performing a single attention function with dmodel-dimensional keys, values and queries, we found it beneficial to linearly project the queries, keys and values htimes with different, learned linear projections to dk,dkanddvdimensions, respectively. On each of these projected versions of queries, keys and values we then perform the attention function in parallel, yielding dv-dimensional 4To illustrate why the dot products get large, assume that the components of qandkare independent random variables with mean 0and variance 1. Then their dot product, q·k=Pdk i=1qiki, has mean 0and variance dk. 4output values. These are concatenated and once again projected, resulting in the final values, as depicted in Figure 2. Multi-head attention allows the model to jointly attend to information from different representation subspaces at different positions. With a single attention head, averaging inhibits this. MultiHead( Q, K, V ) = Concat(head 1, ...,head h)WO where head i= Attention( QWQ i, KWK i, V WV i) Where the projections are parameter matrices WQ i∈Rdmodel×dk,WK i∈Rdmodel×dk,WV i∈Rdmodel×dv andWO∈Rhdv×dmodel. In this work we employ h= 8 parallel attention layers, or heads. For each of these we use dk=dv=dmodel/h= 64 . Due to the reduced dimension of each head, the total computational cost is similar to that of single-head attention with full dimensionality.',\n  'children': []},\n '2334567759440': {'depth': 3,\n  'page': 4,\n  'top': 518.313,\n  'title': 'Applications of Attention in our Model',\n  'text': 'The Transformer uses multi-head attention in three different ways: •In \"encoder-decoder attention\" layers, the queries come from the previous decoder layer, and the memory keys and values come from the output of the encoder. This allows every position in the decoder to attend over all positions in the input sequence. This mimics the typical encoder-decoder attention mechanisms in sequence-to-sequence models such as [38, 2, 9]. •The encoder contains self-attention layers. In a self-attention layer all of the keys, values and queries come from the same place, in this case, the output of the previous layer in the encoder. Each position in the encoder can attend to all positions in the previous layer of the encoder. •Similarly, self-attention layers in the decoder allow each position in the decoder to attend to all positions in the decoder up to and including that position. We need to prevent leftward information flow in the decoder to preserve the auto-regressive property. We implement this inside of scaled dot-product attention by masking out (setting to −∞) all values in the input of the softmax which correspond to illegal connections. See Figure 2.',\n  'children': []},\n '2334567745744': {'depth': 2,\n  'page': 4,\n  'top': 301.225,\n  'title': 'Position-wise Feed-Forward Networks',\n  'text': 'In addition to attention sub-layers, each of the layers in our encoder and decoder contains a fully connected feed-forward network, which is applied to each position separately and identically. This consists of two linear transformations with a ReLU activation in between. FFN( x) = max(0 , xW 1+b1)W2+b2 (2) While the linear transformations are the same across different positions, they use different parameters from layer to layer. Another way of describing this is as two convolutions with kernel size 1. The dimensionality of input and output is dmodel = 512 , and the inner-layer has dimensionality dff= 2048 .',\n  'children': []},\n '2334567751888': {'depth': 2,\n  'page': 4,\n  'top': 149.573,\n  'title': 'Embeddings and Softmax',\n  'text': 'Similarly to other sequence transduction models, we use learned embeddings to convert the input tokens and output tokens to vectors of dimension dmodel. We also use the usual learned linear transfor- mation and softmax function to convert the decoder output to predicted next-token probabilities. In our model, we share the same weight matrix between the two embedding layers and the pre-softmax linear transformation, similar to [ 30]. In the embedding layers, we multiply those weights by√dmodel. 5Table 1: Maximum path lengths, per-layer complexity and minimum number of sequential operations for different layer types. nis the sequence length, dis the representation dimension, kis the kernel size of convolutions and rthe size of the neighborhood in restricted self-attention. Layer Type Complexity per Layer Sequential Maximum Path Length Operations Self-Attention O(n2·d) O(1) O(1) Recurrent O(n·d2) O(n) O(n) Convolutional O(k·n·d2) O(1) O(logk(n)) Self-Attention (restricted) O(r·n·d) O(1) O(n/r)',\n  'children': []},\n '2334567755344': {'depth': 2,\n  'page': 5,\n  'top': 580.526,\n  'title': 'Positional Encoding',\n  'text': 'Since our model contains no recurrence and no convolution, in order for the model to make use of the order of the sequence, we must inject some information about the relative or absolute position of the tokens in the sequence. To this end, we add \"positional encodings\" to the input embeddings at the bottoms of the encoder and decoder stacks. The positional encodings have the same dimension dmodel as the embeddings, so that the two can be summed. There are many choices of positional encodings, learned and fixed [9]. In this work, we use sine and cosine functions of different frequencies: PE(pos,2i)=sin(pos/100002i/d model) PE(pos,2i+1)=cos(pos/100002i/d model) where posis the position and iis the dimension. That is, each dimension of the positional encoding corresponds to a sinusoid. The wavelengths form a geometric progression from 2πto10000 ·2π. We chose this function because we hypothesized it would allow the model to easily learn to attend by relative positions, since for any fixed offset k,PEpos+kcan be represented as a linear function of PEpos. We also experimented with using learned positional embeddings [ 9] instead, and found that the two versions produced nearly identical results (see Table 3 row (E)). We chose the sinusoidal version because it may allow the model to extrapolate to sequence lengths longer than the ones encountered during training.',\n  'children': []},\n '2334567758480': {'depth': 1,\n  'page': 5,\n  'top': 303.208,\n  'title': 'Why Self-Attention',\n  'text': 'In this section we compare various aspects of self-attention layers to the recurrent and convolu- tional layers commonly used for mapping one variable-length sequence of symbol representations (x1, ..., x n)to another sequence of equal length (z1, ..., z n), with xi, zi∈Rd, such as a hidden layer in a typical sequence transduction encoder or decoder. Motivating our use of self-attention we consider three desiderata. One is the total computational complexity per layer. Another is the amount of computation that can be parallelized, as measured by the minimum number of sequential operations required. The third is the path length between long-range dependencies in the network. Learning long-range dependencies is a key challenge in many sequence transduction tasks. One key factor affecting the ability to learn such dependencies is the length of the paths forward and backward signals have to traverse in the network. The shorter these paths between any combination of positions in the input and output sequences, the easier it is to learn long-range dependencies [ 12]. Hence we also compare the maximum path length between any two input and output positions in networks composed of the different layer types. As noted in Table 1, a self-attention layer connects all positions with a constant number of sequentially executed operations, whereas a recurrent layer requires O(n)sequential operations. In terms of computational complexity, self-attention layers are faster than recurrent layers when the sequence 6length nis smaller than the representation dimensionality d, which is most often the case with sentence representations used by state-of-the-art models in machine translations, such as word-piece [38] and byte-pair [ 31] representations. To improve computational performance for tasks involving very long sequences, self-attention could be restricted to considering only a neighborhood of size rin the input sequence centered around the respective output position. This would increase the maximum path length to O(n/r). We plan to investigate this approach further in future work. A single convolutional layer with kernel width k < n does not connect all pairs of input and output positions. Doing so requires a stack of O(n/k)convolutional layers in the case of contiguous kernels, orO(logk(n))in the case of dilated convolutions [ 18], increasing the length of the longest paths between any two positions in the network. Convolutional layers are generally more expensive than recurrent layers, by a factor of k. Separable convolutions [ 6], however, decrease the complexity considerably, to O(k·n·d+n·d2). Even with k=n, however, the complexity of a separable convolution is equal to the combination of a self-attention layer and a point-wise feed-forward layer, the approach we take in our model. As side benefit, self-attention could yield more interpretable models. We inspect attention distributions from our models and present and discuss examples in the appendix. Not only do individual attention heads clearly learn to perform different tasks, many appear to exhibit behavior related to the syntactic and semantic structure of the sentences.',\n  'children': []},\n '2334567758608': {'depth': 1,\n  'page': 6,\n  'top': 502.238,\n  'title': 'Training',\n  'text': 'This section describes the training regime for our models.',\n  'children': ['2334567747984',\n   '2334567755472',\n   '2334567753616',\n   '2334567748816']},\n '2334567747984': {'depth': 2,\n  'page': 6,\n  'top': 445.858,\n  'title': 'Training Data and Batching',\n  'text': 'We trained on the standard WMT 2014 English-German dataset consisting of about 4.5 million sentence pairs. Sentences were encoded using byte-pair encoding [ 3], which has a shared source- target vocabulary of about 37000 tokens. For English-French, we used the significantly larger WMT 2014 English-French dataset consisting of 36M sentences and split tokens into a 32000 word-piece vocabulary [ 38]. Sentence pairs were batched together by approximate sequence length. Each training batch contained a set of sentence pairs containing approximately 25000 source tokens and 25000 target tokens.',\n  'children': []},\n '2334567755472': {'depth': 2,\n  'page': 6,\n  'top': 332.721,\n  'title': 'Hardware and Schedule',\n  'text': 'We trained our models on one machine with 8 NVIDIA P100 GPUs. For our base models using the hyperparameters described throughout the paper, each training step took about 0.4 seconds. We trained the base models for a total of 100,000 steps or 12 hours. For our big models,(described on the bottom line of table 3), step time was 1.0 seconds. The big models were trained for 300,000 steps (3.5 days).',\n  'children': []},\n '2334567753616': {'depth': 2,\n  'page': 6,\n  'top': 241.403,\n  'title': 'Optimizer',\n  'text': 'We used the Adam optimizer [ 20] with β1= 0.9,β2= 0.98andϵ= 10−9. We varied the learning rate over the course of training, according to the formula: lrate =d−0.5 model·min(step_num−0.5, step _num·warmup _steps−1.5) (3) This corresponds to increasing the learning rate linearly for the first warmup _steps training steps, and decreasing it thereafter proportionally to the inverse square root of the step number. We used warmup _steps = 4000 .',\n  'children': []},\n '2334567748816': {'depth': 2,\n  'page': 6,\n  'top': 107.355,\n  'title': 'Regularization',\n  'text': 'We employ three types of regularization during training: 7Table 2: The Transformer achieves better BLEU scores than previous state-of-the-art models on the English-to-German and English-to-French newstest2014 tests at a fraction of the training cost. ModelBLEU Training Cost (FLOPs) EN-DE EN-FR EN-DE EN-FR ByteNet [18] 23.75 Deep-Att + PosUnk [39] 39.2 1.0·1020 GNMT + RL [38] 24.6 39.92 2.3·10191.4·1020 ConvS2S [9] 25.16 40.46 9.6·10181.5·1020 MoE [32] 26.03 40.56 2.0·10191.2·1020 Deep-Att + PosUnk Ensemble [39] 40.4 8.0·1020 GNMT + RL Ensemble [38] 26.30 41.16 1.8·10201.1·1021 ConvS2S Ensemble [9] 26.36 41.29 7.7·10191.2·1021 Transformer (base model) 27.3 38.1 3.3·1018 Transformer (big) 28.4 41.8 2.3·1019 Residual Dropout We apply dropout [ 33] to the output of each sub-layer, before it is added to the sub-layer input and normalized. In addition, we apply dropout to the sums of the embeddings and the positional encodings in both the encoder and decoder stacks. For the base model, we use a rate of Pdrop= 0.1. Label Smoothing During training, we employed label smoothing of value ϵls= 0.1[36]. This hurts perplexity, as the model learns to be more unsure, but improves accuracy and BLEU score.',\n  'children': []},\n '2334567747344': {'depth': 1,\n  'page': 7,\n  'top': 428.809,\n  'title': 'Results',\n  'text': '6 Results',\n  'children': ['2334567748240', '2334567752080', '2334567757520']},\n '2334567748240': {'depth': 2,\n  'page': 7,\n  'top': 403.331,\n  'title': 'Machine Translation',\n  'text': 'On the WMT 2014 English-to-German translation task, the big transformer model (Transformer (big) in Table 2) outperforms the best previously reported models (including ensembles) by more than 2.0 BLEU, establishing a new state-of-the-art BLEU score of 28.4. The configuration of this model is listed in the bottom line of Table 3. Training took 3.5days on 8P100 GPUs. Even our base model surpasses all previously published models and ensembles, at a fraction of the training cost of any of the competitive models. On the WMT 2014 English-to-French translation task, our big model achieves a BLEU score of 41.0, outperforming all of the previously published single models, at less than 1/4the training cost of the previous state-of-the-art model. The Transformer (big) model trained for English-to-French used dropout rate Pdrop= 0.1, instead of 0.3. For the base models, we used a single model obtained by averaging the last 5 checkpoints, which were written at 10-minute intervals. For the big models, we averaged the last 20 checkpoints. We used beam search with a beam size of 4and length penalty α= 0.6[38]. These hyperparameters were chosen after experimentation on the development set. We set the maximum output length during inference to input length + 50, but terminate early when possible [38]. Table 2 summarizes our results and compares our translation quality and training costs to other model architectures from the literature. We estimate the number of floating point operations used to train a model by multiplying the training time, the number of GPUs used, and an estimate of the sustained single-precision floating-point capacity of each GPU5.',\n  'children': []},\n '2334567752080': {'depth': 2,\n  'page': 7,\n  'top': 140.959,\n  'title': 'Model Variations',\n  'text': 'To evaluate the importance of different components of the Transformer, we varied our base model in different ways, measuring the change in performance on English-to-German translation on the 5We used values of 2.8, 3.7, 6.0 and 9.5 TFLOPS for K80, K40, M40 and P100, respectively. 8Table 3: Variations on the Transformer architecture. Unlisted values are identical to those of the base model. All metrics are on the English-to-German translation development set, newstest2013. Listed perplexities are per-wordpiece, according to our byte-pair encoding, and should not be compared to per-word perplexities. N d model dff h d k dvPdrop ϵlstrain PPL BLEU params steps (dev) (dev) ×106 base 6 512 2048 8 64 64 0.1 0.1 100K 4.92 25.8 65 (A)1 512 512 5.29 24.9 4 128 128 5.00 25.5 16 32 32 4.91 25.8 32 16 16 5.01 25.4 (B)16 5.16 25.1 58 32 5.01 25.4 60 (C)2 6.11 23.7 36 4 5.19 25.3 50 8 4.88 25.5 80 256 32 32 5.75 24.5 28 1024 128 128 4.66 26.0 168 1024 5.12 25.4 53 4096 4.75 26.2 90 (D)0.0 5.77 24.6 0.2 4.95 25.5 0.0 4.67 25.3 0.2 5.47 25.7 (E) positional embedding instead of sinusoids 4.92 25.7 big 6 1024 4096 16 0.3 300K 4.33 26.4 213 development set, newstest2013. We used beam search as described in the previous section, but no checkpoint averaging. We present these results in Table 3. In Table 3 rows (A), we vary the number of attention heads and the attention key and value dimensions, keeping the amount of computation constant, as described in Section 3.2.2. While single-head attention is 0.9 BLEU worse than the best setting, quality also drops off with too many heads. In Table 3 rows (B), we observe that reducing the attention key size dkhurts model quality. This suggests that determining compatibility is not easy and that a more sophisticated compatibility function than dot product may be beneficial. We further observe in rows (C) and (D) that, as expected, bigger models are better, and dropout is very helpful in avoiding over-fitting. In row (E) we replace our sinusoidal positional encoding with learned positional embeddings [ 9], and observe nearly identical results to the base model.',\n  'children': []},\n '2334567757520': {'depth': 2,\n  'page': 8,\n  'top': 240.152,\n  'title': 'English Constituency Parsing',\n  'text': 'To evaluate if the Transformer can generalize to other tasks we performed experiments on English constituency parsing. This task presents specific challenges: the output is subject to strong structural constraints and is significantly longer than the input. Furthermore, RNN sequence-to-sequence models have not been able to attain state-of-the-art results in small-data regimes [37]. We trained a 4-layer transformer with dmodel = 1024 on the Wall Street Journal (WSJ) portion of the Penn Treebank [ 25], about 40K training sentences. We also trained it in a semi-supervised setting, using the larger high-confidence and BerkleyParser corpora from with approximately 17M sentences [37]. We used a vocabulary of 16K tokens for the WSJ only setting and a vocabulary of 32K tokens for the semi-supervised setting. We performed only a small number of experiments to select the dropout, both attention and residual (section 5.4), learning rates and beam size on the Section 22 development set, all other parameters remained unchanged from the English-to-German base translation model. During inference, we 9Table 4: The Transformer generalizes well to English constituency parsing (Results are on Section 23 of WSJ) Parser Training WSJ 23 F1 Vinyals & Kaiser el al. (2014) [37] WSJ only, discriminative 88.3 Petrov et al. (2006) [29] WSJ only, discriminative 90.4 Zhu et al. (2013) [40] WSJ only, discriminative 90.4 Dyer et al. (2016) [8] WSJ only, discriminative 91.7 Transformer (4 layers) WSJ only, discriminative 91.3 Zhu et al. (2013) [40] semi-supervised 91.3 Huang & Harper (2009) [14] semi-supervised 91.3 McClosky et al. (2006) [26] semi-supervised 92.1 Vinyals & Kaiser el al. (2014) [37] semi-supervised 92.1 Transformer (4 layers) semi-supervised 92.7 Luong et al. (2015) [23] multi-task 93.0 Dyer et al. (2016) [8] generative 93.3 increased the maximum output length to input length + 300. We used a beam size of 21andα= 0.3 for both WSJ only and the semi-supervised setting. Our results in Table 4 show that despite the lack of task-specific tuning our model performs sur- prisingly well, yielding better results than all previously reported models with the exception of the Recurrent Neural Network Grammar [8]. In contrast to RNN sequence-to-sequence models [ 37], the Transformer outperforms the Berkeley- Parser [29] even when training only on the WSJ training set of 40K sentences.',\n  'children': []},\n '2334567754832': {'depth': 1,\n  'page': 9,\n  'top': 435.273,\n  'title': 'Conclusion',\n  'text': 'In this work, we presented the Transformer, the first sequence transduction model based entirely on attention, replacing the recurrent layers most commonly used in encoder-decoder architectures with multi-headed self-attention. For translation tasks, the Transformer can be trained significantly faster than architectures based on recurrent or convolutional layers. On both WMT 2014 English-to-German and WMT 2014 English-to-French translation tasks, we achieve a new state of the art. In the former task our best model outperforms even all previously reported ensembles. We are excited about the future of attention-based models and plan to apply them to other tasks. We plan to extend the Transformer to problems involving input and output modalities other than text and to investigate local, restricted attention mechanisms to efficiently handle large inputs and outputs such as images, audio and video. Making generation less sequential is another research goals of ours. The code we used to train and evaluate our models is available at https://github.com/ tensorflow/tensor2tensor . Acknowledgements We are grateful to Nal Kalchbrenner and Stephan Gouws for their fruitful comments, corrections and inspiration. ',\n  'children': []}}"
     },
     "execution_count": 68,
     "metadata": {},
     "output_type": "execute_result"
    }
   ],
   "source": [
    "def create_graph(pdf_reader, title, page):\n",
    "    root = SectionNode(title, page, None)\n",
    "    get_bookmark(root, pdf_reader.outline)\n",
    "\n",
    "    return root\n",
    "\n",
    "\n",
    "def get_bookmark(root, outline):\n",
    "    new = None\n",
    "\n",
    "    for item in outline:\n",
    "        if isinstance(item, list):\n",
    "            get_bookmark(new, item)\n",
    "        else:\n",
    "            new = SectionNode(item.title, item.page, item.top)\n",
    "            root.addChild(new)\n",
    "\n",
    "\n",
    "# def get_json_output(json_output, root):\n",
    "#     json_output.append(root.getJson())\n",
    "#     for child in root.children:\n",
    "#         get_json_output(json_output, child)\n",
    "\n",
    "\n",
    "def get_json_output(json_output, root):\n",
    "    json_output[root.id] = {}\n",
    "    json_output[root.id][\"depth\"] = root.depth\n",
    "    json_output[root.id][\"page\"] = root.page\n",
    "    json_output[root.id][\"top\"] = root.top\n",
    "    json_output[root.id][\"title\"] = root.title\n",
    "    json_output[root.id][\"text\"] = root.text\n",
    "    json_output[root.id][\"children\"] = [child.id for child in root.children]\n",
    "\n",
    "    for child in root.children:\n",
    "        get_json_output(json_output, child)\n",
    "\n",
    "\n",
    "def get_text_from_page(page, bottom, up):\n",
    "    def visitor_body_with_range(bottom, up):\n",
    "        def visitor_body(text, cm, tm, fontDict, fontSize):\n",
    "            y = tm[5]\n",
    "            if bottom < y < up:\n",
    "                parts.append(text)\n",
    "        return visitor_body\n",
    "\n",
    "    parts = []\n",
    "    page.extract_text(visitor_text=visitor_body_with_range(bottom=bottom, up=up))\n",
    "    return \"\".join(parts).strip()\n",
    "\n",
    "\n",
    "def get_all_nodes(all_nodes, root):\n",
    "    all_nodes.append(root)\n",
    "    for child in root.children:\n",
    "        get_all_nodes(all_nodes, child)\n",
    "\n",
    "\n",
    "def get_page_number(pdf_reader, node):\n",
    "    if type(node.page) == PyPDF2.PageObject:\n",
    "        return pdf_reader.get_page_number(node.page)\n",
    "    return pdf_reader.get_page_number(pdf_reader.get_object(node.page))\n",
    "\n",
    "\n",
    "def adjust_page_numbers(pdf_reader, all_nodes):\n",
    "    for node in all_nodes:\n",
    "        node.page = get_page_number(pdf_reader, node)\n",
    "\n",
    "\n",
    "def float2string(all_nodes):\n",
    "    for node in all_nodes:\n",
    "        node.page = str(node.page)\n",
    "        node.top = str(node.top)\n",
    "        node.depth = str(node.depth)\n",
    "\n",
    "\n",
    "def get_text_all_nodes(pdf_reader, all_nodes):\n",
    "    prev_i = 1\n",
    "    next_i = 2\n",
    "\n",
    "    while next_i < len(all_nodes):\n",
    "\n",
    "        prev_node = all_nodes[prev_i]\n",
    "        next_node = all_nodes[next_i]\n",
    "        page = pdf_reader.pages[prev_node.page]\n",
    "\n",
    "        if prev_node.page == next_node.page:\n",
    "            text = get_text_from_page(page, bottom=next_node.top, up=prev_node.top).strip()\n",
    "            prev_node.text = text[text.find('\\n')+1:].replace('\\n', ' ')\n",
    "\n",
    "        else:\n",
    "            text = get_text_from_page(page, bottom=42, up=prev_node.top).strip()\n",
    "            text = text[text.find('\\n')+1:].replace('\\n', ' ')\n",
    "\n",
    "            curr_page_num = prev_node.page + 1\n",
    "\n",
    "            while curr_page_num < next_node.page:\n",
    "                text += pdf_reader.pages[curr_page_num].extract_text().replace('\\n', ' ')\n",
    "                curr_page_num += 1\n",
    "\n",
    "            text += get_text_from_page(pdf_reader.pages[curr_page_num], bottom=next_node.top, up=750).replace('\\n', ' ')\n",
    "            prev_node.text = text\n",
    "\n",
    "        next_i, prev_i = next_i+1, prev_i+1\n",
    "\n",
    "\n",
    "    # For the last node\n",
    "    prev_node = all_nodes[prev_i]\n",
    "    page = pdf_reader.pages[prev_node.page]\n",
    "    text = get_text_from_page(page, bottom=50, up=prev_node.top).strip()\n",
    "    text = text[text.find('\\n')+1:].replace('\\n', ' ')\n",
    "\n",
    "    curr_page_num = prev_node.page + 1\n",
    "    while curr_page_num < len(pdf_reader.pages):\n",
    "        text += pdf_reader.pages[curr_page_num].extract_text().replace('\\n', ' ')\n",
    "        curr_page_num += 1\n",
    "\n",
    "    prev_node.text = text[:text.find(\"References\")]\n",
    "\n",
    "\n",
    "def get_title_root(pdf_reader):\n",
    "    prompt = f\"What is the title of this article?\\n{pdf_reader.pages[0].extract_text()}\\nTitle: \"\n",
    "    response, _ = ask_chatgpt(prompt, history=[], system=None, new_chat=True, max_tokens=50, temp=0)\n",
    "    return response.strip()\n",
    "\n",
    "\n",
    "def get_depth(root, depth):\n",
    "    root.depth = depth\n",
    "    for child in root.children:\n",
    "        get_depth(child, depth+1)\n",
    "\n",
    "\n",
    "# def main\n",
    "pdf_reader = PyPDF2.PdfReader(open(pdf_file, 'rb'))\n",
    "root = create_graph(pdf_reader, title=get_title_root(pdf_reader), page=pdf_reader.pages[0])\n",
    "all_nodes = []\n",
    "json_output = {}\n",
    "get_all_nodes(all_nodes, root)\n",
    "get_depth(root, 0)\n",
    "adjust_page_numbers(pdf_reader, all_nodes)\n",
    "get_text_all_nodes(pdf_reader, all_nodes)\n",
    "# float2string(all_nodes)\n",
    "get_json_output(json_output, root)\n",
    "json_output"
   ],
   "metadata": {
    "collapsed": false,
    "ExecuteTime": {
     "end_time": "2023-10-15T05:02:48.508953800Z",
     "start_time": "2023-10-15T05:02:44.209555300Z"
    }
   }
  },
  {
   "cell_type": "code",
   "execution_count": null,
   "outputs": [],
   "source": [
    "# json_output2 = {}\n",
    "# for node in json_output:\n",
    "#     key = list(node.keys())[0]\n",
    "#     json_output2[key] = node[key]\n",
    "# json_output2"
   ],
   "metadata": {
    "collapsed": false
   }
  },
  {
   "cell_type": "code",
   "execution_count": null,
   "outputs": [],
   "source": [
    "# To Debug\n",
    "for child in root.children:\n",
    "    print(child.text, '\\n\\n')\n",
    "    # for subchild in child.children:\n",
    "    #     for subsubchild in subchild.children:\n",
    "    #         print(subsubchild.text, '\\n\\n')"
   ],
   "metadata": {
    "collapsed": false
   }
  },
  {
   "cell_type": "code",
   "execution_count": 98,
   "outputs": [],
   "source": [
    "def pdf2text(pdf_file):\n",
    "    with pdfplumber.open(pdf_file) as pdf:\n",
    "        pdf_text = ''\n",
    "        for page_number in range(len(pdf.pages)):\n",
    "            page = pdf.pages[page_number]\n",
    "            pdf_text += page.extract_text(x_tolerance=2, y_tolerance=5, layout=False).strip()\n",
    "    return pdf_text\n",
    "\n",
    "\n",
    "def count_tokens(history: list):\n",
    "    encoding = tiktoken.get_encoding(\"cl100k_base\")\n",
    "    num_tokens = 0\n",
    "    for message in history:\n",
    "        num_tokens += 4\n",
    "        for key, value in message.items():\n",
    "            num_tokens += len(encoding.encode(value))\n",
    "            if key == \"name\":\n",
    "                num_tokens += -1\n",
    "    num_tokens += 2\n",
    "    return num_tokens\n",
    "\n",
    "\n",
    "def count_tokens_text(text: str):\n",
    "    encoding = tiktoken.get_encoding(\"cl100k_base\")\n",
    "    return len(encoding.encode(text))"
   ],
   "metadata": {
    "collapsed": false,
    "ExecuteTime": {
     "end_time": "2023-10-15T05:19:14.262490500Z",
     "start_time": "2023-10-15T05:19:14.255963800Z"
    }
   }
  },
  {
   "cell_type": "code",
   "execution_count": 152,
   "outputs": [
    {
     "name": "stdout",
     "output_type": "stream",
     "text": [
      "Depth: 1\n",
      "Title: Why Self-Attention\n",
      "Page: 5\n",
      "Text: In this section we compare various aspects of self-attention layers to the recurrent and convolu- tional layers commonly used for mapping one variable-length sequence of symbol representations (x1, ..., x n)to another sequence of equal length (z1, ..., z n), with xi, zi∈Rd, such as a hidden layer in a typical sequence transduction encoder or decoder. Motivating our use of self-attention we consider three desiderata. One is the total computational complexity per layer. Another is the amount of computation that can be parallelized, as measured by the minimum number of sequential operations required. The third is the path length between long-range dependencies in the network. Learning long-range dependencies is a key challenge in many sequence transduction tasks. One key factor affecting the ability to learn such dependencies is the length of the paths forward and backward signals have to traverse in the network. The shorter these paths between any combination of positions in the input and output sequences, the easier it is to learn long-range dependencies [ 12]. Hence we also compare the maximum path length between any two input and output positions in networks composed of the different layer types. As noted in Table 1, a self-attention layer connects all positions with a constant number of sequentially executed operations, whereas a recurrent layer requires O(n)sequential operations. In terms of computational complexity, self-attention layers are faster than recurrent layers when the sequence 6length nis smaller than the representation dimensionality d, which is most often the case with sentence representations used by state-of-the-art models in machine translations, such as word-piece [38] and byte-pair [ 31] representations. To improve computational performance for tasks involving very long sequences, self-attention could be restricted to considering only a neighborhood of size rin the input sequence centered around the respective output position. This would increase the maximum path length to O(n/r). We plan to investigate this approach further in future work. A single convolutional layer with kernel width k < n does not connect all pairs of input and output positions. Doing so requires a stack of O(n/k)convolutional layers in the case of contiguous kernels, orO(logk(n))in the case of dilated convolutions [ 18], increasing the length of the longest paths between any two positions in the network. Convolutional layers are generally more expensive than recurrent layers, by a factor of k. Separable convolutions [ 6], however, decrease the complexity considerably, to O(k·n·d+n·d2). Even with k=n, however, the complexity of a separable convolution is equal to the combination of a self-attention layer and a point-wise feed-forward layer, the approach we take in our model. As side benefit, self-attention could yield more interpretable models. We inspect attention distributions from our models and present and discuss examples in the appendix. Not only do individual attention heads clearly learn to perform different tasks, many appear to exhibit behavior related to the syntactic and semantic structure of the sentences.\n",
      "Children: []\n",
      " \n",
      " 618\n"
     ]
    }
   ],
   "source": [
    "i = 12\n",
    "print(all_nodes[i], '\\n', count_tokens_text(all_nodes[i].text))"
   ],
   "metadata": {
    "collapsed": false,
    "ExecuteTime": {
     "end_time": "2023-10-15T05:38:44.822503600Z",
     "start_time": "2023-10-15T05:38:44.811735900Z"
    }
   }
  },
  {
   "cell_type": "code",
   "execution_count": 154,
   "outputs": [
    {
     "name": "stdout",
     "output_type": "stream",
     "text": [
      "- The article compares self-attention layers to recurrent and convolutional layers for mapping sequences of symbol representations.\n",
      "- Three desiderata are considered: computational complexity per layer, parallelizability, and path length between long-range dependencies.\n",
      "- Self-attention layers have a constant number of sequentially executed operations and are faster than recurrent layers when the sequence length is smaller than the representation dimensionality.\n",
      "- Self-attention can be restricted to a neighborhood of size r to improve computational performance for very long sequences.\n",
      "- Convolutional layers require a stack of layers to connect all pairs of input and output positions, increasing the length of the longest paths in the network.\n",
      "- Separable convolutions decrease complexity, but self-attention combined with a point-wise feed-forward layer has similar complexity.\n",
      "- Self-attention could yield more interpretable models, as attention heads learn to perform different tasks related to the syntactic and semantic structure of sentences. \n",
      "\n",
      " 184\n"
     ]
    }
   ],
   "source": [
    "system = f'Act as a professional scientist that reviews articles.'\n",
    "article = f'article: {all_nodes[i]}'\n",
    "prompt = f'{article}.\\nExplain all important information, terms, and ideas in summarized bullet points: '\n",
    "\n",
    "response, history = ask_chatgpt(prompt, history=[], system=system, new_chat=True, max_tokens=280, temp=0)\n",
    "print(response, '\\n\\n', count_tokens_text(response))"
   ],
   "metadata": {
    "collapsed": false,
    "ExecuteTime": {
     "end_time": "2023-10-15T05:40:59.860403400Z",
     "start_time": "2023-10-15T05:40:56.509138100Z"
    }
   }
  },
  {
   "cell_type": "code",
   "execution_count": null,
   "outputs": [],
   "source": [
    "text = pdf2text(pdf_file)\n",
    "print(text, '\\n\\n', count_tokens_text(text))"
   ],
   "metadata": {
    "collapsed": false
   }
  },
  {
   "cell_type": "code",
   "execution_count": null,
   "outputs": [],
   "source": [
    "system = f'Act as a professional scientist that reviews article.'\n",
    "article = f'article: {text}'\n",
    "\n",
    "prompt = f'{article}.\\nObjective: List sections and subsections of the article. To find those sections, include several exact words of the article that followed each section and subsection.'\n",
    "\n",
    "response, history = ask_chatgpt(prompt, history=[], system=system, new_chat=True, max_tokens=1000, temp=0, model='gpt-3.5-turbo-16k')\n",
    "print(response)"
   ],
   "metadata": {
    "collapsed": false
   }
  },
  {
   "cell_type": "code",
   "execution_count": null,
   "outputs": [],
   "source": [
    "text.find('Scaled Dot-Product Attention ')"
   ],
   "metadata": {
    "collapsed": false
   }
  },
  {
   "cell_type": "code",
   "execution_count": null,
   "outputs": [],
   "source": [
    "section2text = {}\n",
    "sections_list = response.strip().split('\\n')\n",
    "section_indexes = []\n",
    "\n",
    "for section in sections_list:\n",
    "    section_indexes.append(text.find(section))\n",
    "\n",
    "print(section_indexes)"
   ],
   "metadata": {
    "collapsed": false
   }
  },
  {
   "cell_type": "code",
   "execution_count": null,
   "outputs": [],
   "source": [
    "text[20000:]"
   ],
   "metadata": {
    "collapsed": false
   }
  },
  {
   "cell_type": "code",
   "execution_count": null,
   "outputs": [],
   "source": [
    "print(\"Table 1: Maximum path lengths, per-layer complexity and minimum number of sequential operations\\nfor different layer types. n is the sequence length, d is the representation dimension, k is the kernel\\nsize of convolutions and r the size of the neighborhood in restricted self-attention.\\nLayer Type Complexity per Layer Sequential Maximum Path Length\\nOperations\\nSelf-Attention O(n2 · d) O(1) O(1)\\nRecurrent O(n · d2) O(n) O(n)\\nConvolutional O(k · n · d2) O(1) O(logk(n))\\nSelf-Attention (restricted) O(r · n · d) O(1) O(n/r)\\n\")"
   ],
   "metadata": {
    "collapsed": false
   }
  },
  {
   "cell_type": "code",
   "execution_count": null,
   "outputs": [],
   "source": [
    "text[2859:4780]"
   ],
   "metadata": {
    "collapsed": false
   }
  }
 ],
 "metadata": {
  "kernelspec": {
   "display_name": "Python 3",
   "language": "python",
   "name": "python3"
  },
  "language_info": {
   "codemirror_mode": {
    "name": "ipython",
    "version": 2
   },
   "file_extension": ".py",
   "mimetype": "text/x-python",
   "name": "python",
   "nbconvert_exporter": "python",
   "pygments_lexer": "ipython2",
   "version": "2.7.6"
  }
 },
 "nbformat": 4,
 "nbformat_minor": 0
}
